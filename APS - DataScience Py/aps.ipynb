{
 "cells": [
  {
   "cell_type": "code",
   "execution_count": 196,
   "metadata": {},
   "outputs": [
    {
     "ename": "ModuleNotFoundError",
     "evalue": "No module named 'plotnine'",
     "output_type": "error",
     "traceback": [
      "\u001b[1;31m---------------------------------------------------------------------------\u001b[0m",
      "\u001b[1;31mModuleNotFoundError\u001b[0m                       Traceback (most recent call last)",
      "Cell \u001b[1;32mIn [196], line 2\u001b[0m\n\u001b[0;32m      1\u001b[0m \u001b[39mimport\u001b[39;00m \u001b[39mpandas\u001b[39;00m\n\u001b[1;32m----> 2\u001b[0m \u001b[39mimport\u001b[39;00m \u001b[39mplotnine\u001b[39;00m\n",
      "\u001b[1;31mModuleNotFoundError\u001b[0m: No module named 'plotnine'"
     ]
    }
   ],
   "source": [
    "import pandas\n",
    "import plotnine"
   ]
  },
  {
   "cell_type": "code",
   "execution_count": 134,
   "metadata": {},
   "outputs": [],
   "source": [
    "data = pandas.read_csv(\"10411_games_with_centipawn_metrics.csv\")\n",
    "data = data.drop(\n",
    "    [\"Unnamed: 0\", \"White Expected Rating by ACPL\", \"Black Expected Rating by ACPL\"],\n",
    "    axis=1,\n",
    ")"
   ]
  },
  {
   "cell_type": "code",
   "execution_count": 83,
   "metadata": {},
   "outputs": [
    {
     "data": {
      "text/html": [
       "<div>\n",
       "<style scoped>\n",
       "    .dataframe tbody tr th:only-of-type {\n",
       "        vertical-align: middle;\n",
       "    }\n",
       "\n",
       "    .dataframe tbody tr th {\n",
       "        vertical-align: top;\n",
       "    }\n",
       "\n",
       "    .dataframe thead th {\n",
       "        text-align: right;\n",
       "    }\n",
       "</style>\n",
       "<table border=\"1\" class=\"dataframe\">\n",
       "  <thead>\n",
       "    <tr style=\"text-align: right;\">\n",
       "      <th></th>\n",
       "      <th>Title</th>\n",
       "      <th>ELO</th>\n",
       "      <th>Number of Games</th>\n",
       "    </tr>\n",
       "  </thead>\n",
       "  <tbody>\n",
       "    <tr>\n",
       "      <th>0</th>\n",
       "      <td>Super Grandmaster</td>\n",
       "      <td>2700+</td>\n",
       "      <td>4661</td>\n",
       "    </tr>\n",
       "    <tr>\n",
       "      <th>1</th>\n",
       "      <td>Grandmaster</td>\n",
       "      <td>2500+</td>\n",
       "      <td>8303</td>\n",
       "    </tr>\n",
       "    <tr>\n",
       "      <th>2</th>\n",
       "      <td>Master</td>\n",
       "      <td>2200-2499</td>\n",
       "      <td>6348</td>\n",
       "    </tr>\n",
       "    <tr>\n",
       "      <th>3</th>\n",
       "      <td>Expert Player</td>\n",
       "      <td>1800-2199</td>\n",
       "      <td>1295</td>\n",
       "    </tr>\n",
       "    <tr>\n",
       "      <th>4</th>\n",
       "      <td>Average Player</td>\n",
       "      <td>1200-1799</td>\n",
       "      <td>184</td>\n",
       "    </tr>\n",
       "    <tr>\n",
       "      <th>5</th>\n",
       "      <td>Beginner</td>\n",
       "      <td>&lt;1200</td>\n",
       "      <td>31</td>\n",
       "    </tr>\n",
       "  </tbody>\n",
       "</table>\n",
       "</div>"
      ],
      "text/plain": [
       "               Title        ELO  Number of Games\n",
       "0  Super Grandmaster      2700+             4661\n",
       "1        Grandmaster      2500+             8303\n",
       "2             Master  2200-2499             6348\n",
       "3      Expert Player  1800-2199             1295\n",
       "4     Average Player  1200-1799              184\n",
       "5           Beginner      <1200               31"
      ]
     },
     "execution_count": 83,
     "metadata": {},
     "output_type": "execute_result"
    }
   ],
   "source": [
    "table = {\n",
    "    \"Title\": [\n",
    "        \"Super Grandmaster\",\n",
    "        \"Grandmaster\",\n",
    "        \"Master\",\n",
    "        \"Expert Player\",\n",
    "        \"Average Player\",\n",
    "        \"Beginner\",\n",
    "    ],\n",
    "    \"ELO\": [\"2700+\", \"2500+\", \"2200-2499\", \"1800-2199\", \"1200-1799\", \"<1200\"],\n",
    "}\n",
    "\n",
    "table = pandas.DataFrame.from_dict(table)\n",
    "\n",
    "\n",
    "count = (\n",
    "    pandas.cut(\n",
    "        pandas.concat([data[\"White ELO\"], data[\"Black ELO\"]]),\n",
    "        [0, 1200, 1800, 2200, 2500, 2700, 4000],\n",
    "        labels=[\n",
    "            \"Beginner\",\n",
    "            \"Average Player\",\n",
    "            \"Expert Player\",\n",
    "            \"Master\",\n",
    "            \"Grandmaster\",\n",
    "            \"Super Grandmaster\",\n",
    "        ],\n",
    "    )\n",
    "    .value_counts()\n",
    "    .reset_index()\n",
    "    .rename(columns={\"index\": \"Title\", 0: \"Number of Games\"})\n",
    ")\n",
    "\n",
    "\n",
    "pandas.merge(table, count)"
   ]
  },
  {
   "cell_type": "code",
   "execution_count": 91,
   "metadata": {},
   "outputs": [
    {
     "data": {
      "text/plain": [
       "1/2-1/2    0.407820\n",
       "1-0        0.353348\n",
       "0-1        0.238832\n",
       "Name: Result, dtype: float64"
      ]
     },
     "execution_count": 91,
     "metadata": {},
     "output_type": "execute_result"
    }
   ],
   "source": [
    "data.filter(like=\"*\")\n",
    "table = data[\"Result\"].value_counts() / data[\"Result\"].count()\n",
    "print(table)"
   ]
  },
  {
   "cell_type": "code",
   "execution_count": 94,
   "metadata": {},
   "outputs": [
    {
     "data": {
      "text/html": [
       "<div>\n",
       "<style scoped>\n",
       "    .dataframe tbody tr th:only-of-type {\n",
       "        vertical-align: middle;\n",
       "    }\n",
       "\n",
       "    .dataframe tbody tr th {\n",
       "        vertical-align: top;\n",
       "    }\n",
       "\n",
       "    .dataframe thead th {\n",
       "        text-align: right;\n",
       "    }\n",
       "</style>\n",
       "<table border=\"1\" class=\"dataframe\">\n",
       "  <thead>\n",
       "    <tr style=\"text-align: right;\">\n",
       "      <th></th>\n",
       "      <th>White Label</th>\n",
       "      <th>Black Label</th>\n",
       "      <th>Result</th>\n",
       "    </tr>\n",
       "  </thead>\n",
       "  <tbody>\n",
       "    <tr>\n",
       "      <th>0</th>\n",
       "      <td>Master</td>\n",
       "      <td>Expert Player</td>\n",
       "      <td>1-0</td>\n",
       "    </tr>\n",
       "    <tr>\n",
       "      <th>1</th>\n",
       "      <td>Master</td>\n",
       "      <td>Grandmaster</td>\n",
       "      <td>1/2-1/2</td>\n",
       "    </tr>\n",
       "    <tr>\n",
       "      <th>2</th>\n",
       "      <td>Master</td>\n",
       "      <td>Master</td>\n",
       "      <td>0-1</td>\n",
       "    </tr>\n",
       "    <tr>\n",
       "      <th>3</th>\n",
       "      <td>Grandmaster</td>\n",
       "      <td>Master</td>\n",
       "      <td>1-0</td>\n",
       "    </tr>\n",
       "    <tr>\n",
       "      <th>4</th>\n",
       "      <td>Master</td>\n",
       "      <td>Master</td>\n",
       "      <td>0-1</td>\n",
       "    </tr>\n",
       "    <tr>\n",
       "      <th>...</th>\n",
       "      <td>...</td>\n",
       "      <td>...</td>\n",
       "      <td>...</td>\n",
       "    </tr>\n",
       "    <tr>\n",
       "      <th>10405</th>\n",
       "      <td>Grandmaster</td>\n",
       "      <td>Super Grandmaster</td>\n",
       "      <td>1/2-1/2</td>\n",
       "    </tr>\n",
       "    <tr>\n",
       "      <th>10406</th>\n",
       "      <td>Grandmaster</td>\n",
       "      <td>Grandmaster</td>\n",
       "      <td>1/2-1/2</td>\n",
       "    </tr>\n",
       "    <tr>\n",
       "      <th>10407</th>\n",
       "      <td>Super Grandmaster</td>\n",
       "      <td>Super Grandmaster</td>\n",
       "      <td>1/2-1/2</td>\n",
       "    </tr>\n",
       "    <tr>\n",
       "      <th>10409</th>\n",
       "      <td>Grandmaster</td>\n",
       "      <td>Super Grandmaster</td>\n",
       "      <td>1/2-1/2</td>\n",
       "    </tr>\n",
       "    <tr>\n",
       "      <th>10410</th>\n",
       "      <td>Grandmaster</td>\n",
       "      <td>Grandmaster</td>\n",
       "      <td>1/2-1/2</td>\n",
       "    </tr>\n",
       "  </tbody>\n",
       "</table>\n",
       "<p>10409 rows × 3 columns</p>\n",
       "</div>"
      ],
      "text/plain": [
       "             White Label        Black Label   Result\n",
       "0                 Master      Expert Player      1-0\n",
       "1                 Master        Grandmaster  1/2-1/2\n",
       "2                 Master             Master      0-1\n",
       "3            Grandmaster             Master      1-0\n",
       "4                 Master             Master      0-1\n",
       "...                  ...                ...      ...\n",
       "10405        Grandmaster  Super Grandmaster  1/2-1/2\n",
       "10406        Grandmaster        Grandmaster  1/2-1/2\n",
       "10407  Super Grandmaster  Super Grandmaster  1/2-1/2\n",
       "10409        Grandmaster  Super Grandmaster  1/2-1/2\n",
       "10410        Grandmaster        Grandmaster  1/2-1/2\n",
       "\n",
       "[10409 rows x 3 columns]"
      ]
     },
     "execution_count": 94,
     "metadata": {},
     "output_type": "execute_result"
    }
   ],
   "source": [
    "data[[\"White Label\", \"Black Label\"]] = data[[\"White ELO\", \"Black ELO\"]].apply(\n",
    "    lambda x: pandas.cut(\n",
    "        x,\n",
    "        [0, 1200, 1800, 2200, 2500, 2700, 4000],\n",
    "        labels=[\n",
    "            \"Beginner\",\n",
    "            \"Average Player\",\n",
    "            \"Expert Player\",\n",
    "            \"Master\",\n",
    "            \"Grandmaster\",\n",
    "            \"Super Grandmaster\",\n",
    "        ],\n",
    "    ),\n",
    "    axis=0,\n",
    ")\n",
    "data[['White Label','Black Label','Result']]"
   ]
  },
  {
   "cell_type": "code",
   "execution_count": 147,
   "metadata": {},
   "outputs": [
    {
     "data": {
      "text/plain": [
       "0         4\n",
       "0        53\n",
       "0         7\n",
       "0         5\n",
       "0        42\n",
       "         ..\n",
       "10410    19\n",
       "10410     0\n",
       "10410    33\n",
       "10410     0\n",
       "10410    17\n",
       "Name: White CP Loss List, Length: 460490, dtype: object"
      ]
     },
     "execution_count": 147,
     "metadata": {},
     "output_type": "execute_result"
    }
   ],
   "source": [
    "from ast import literal_eval\n",
    "data = pandas.read_csv(\"10411_games_with_centipawn_metrics.csv\")\n",
    "\n",
    "data['White CP Loss List'] = data['White CP Loss List'].apply(literal_eval)\n",
    "data['Black CP Loss List'] = data['Black CP Loss List'].apply(literal_eval)\n",
    "\n",
    "data['White CP Loss List'].explode()\n",
    "data['Black CP Loss List'].explode()"
   ]
  },
  {
   "cell_type": "code",
   "execution_count": 192,
   "metadata": {},
   "outputs": [
    {
     "name": "stdout",
     "output_type": "stream",
     "text": [
      "    Game number Evaluations List  Depth\n",
      "0             0               47      0\n",
      "1             0               43      1\n",
      "2             0               44      2\n",
      "3             0               -9      3\n",
      "4             0               17      4\n",
      "..          ...              ...    ...\n",
      "73            0              994     73\n",
      "74            0              994     74\n",
      "75            0              995     75\n",
      "76            0              995     76\n",
      "77            0              996     77\n",
      "\n",
      "[78 rows x 3 columns]\n"
     ]
    }
   ],
   "source": [
    "teste= pandas.DataFrame()\n",
    "teste['Evaluations List'] = data['Evaluations List'].apply(literal_eval)\n",
    "\n",
    "teste = teste.explode('Evaluations List').reset_index().rename(columns ={'index':'Game number'})\n",
    "teste['Depth'] = teste.groupby('Game number').cumcount()\n",
    "\n",
    "\n"
   ]
  },
  {
   "cell_type": "code",
   "execution_count": 201,
   "metadata": {},
   "outputs": [
    {
     "name": "stderr",
     "output_type": "stream",
     "text": [
      "'c:\\Users\\Vitor' n�o � reconhecido como um comando interno\n",
      "ou externo, um programa oper�vel ou um arquivo em lotes.\n"
     ]
    }
   ],
   "source": []
  }
 ],
 "metadata": {
  "kernelspec": {
   "display_name": "Python 3.10.5 64-bit",
   "language": "python",
   "name": "python3"
  },
  "language_info": {
   "codemirror_mode": {
    "name": "ipython",
    "version": 3
   },
   "file_extension": ".py",
   "mimetype": "text/x-python",
   "name": "python",
   "nbconvert_exporter": "python",
   "pygments_lexer": "ipython3",
   "version": "3.10.5"
  },
  "orig_nbformat": 4,
  "vscode": {
   "interpreter": {
    "hash": "3581fe461bdbab5dee5a4b39af397303d1cddc4ae1bd7275425d997ef0f6593e"
   }
  }
 },
 "nbformat": 4,
 "nbformat_minor": 2
}
